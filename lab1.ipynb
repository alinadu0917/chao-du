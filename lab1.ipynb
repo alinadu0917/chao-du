{
 "cells": [
  {
   "cell_type": "code",
   "execution_count": 26,
   "id": "0c083968",
   "metadata": {},
   "outputs": [
    {
     "name": "stdout",
     "output_type": "stream",
     "text": [
      "w = 1\n",
      "x = 11\n",
      "y = 121\n",
      "z = 1331\n",
      "x+y=132\n",
      "w+z=1332\n",
      "aver=366.0\n",
      "a=1320\n",
      "b=121.0\n",
      "c=1771561\n",
      "a+b+c=1773002.0\n"
     ]
    }
   ],
   "source": [
    "w=1\n",
    "x=11\n",
    "y=121\n",
    "z=1331\n",
    "print(f\"w = {w}\")\n",
    "print(f\"x = {x}\")\n",
    "print(f\"y = {y}\")\n",
    "print(f\"z = {z}\")\n",
    "print(f\"x+y={x+y}\")\n",
    "print(f\"w+z={w+z}\")\n",
    "aver= (w+x+y+z)/4\n",
    "print(f\"aver={aver}\")\n",
    "a=z-x\n",
    "print(f\"a={a}\")\n",
    "b=z/x\n",
    "print(f\"b={b}\")\n",
    "c=w*x*y*z\n",
    "print(f\"c={c}\")\n",
    "print(f\"a+b+c={a+b+c}\")"
   ]
  },
  {
   "cell_type": "code",
   "execution_count": 16,
   "id": "7f2e1ea2",
   "metadata": {},
   "outputs": [
    {
     "data": {
      "text/plain": [
       "0"
      ]
     },
     "execution_count": 16,
     "metadata": {},
     "output_type": "execute_result"
    }
   ],
   "source": [
    "0"
   ]
  },
  {
   "cell_type": "code",
   "execution_count": null,
   "id": "a7f510af",
   "metadata": {},
   "outputs": [],
   "source": []
  }
 ],
 "metadata": {
  "kernelspec": {
   "display_name": "Python 3",
   "language": "python",
   "name": "python3"
  },
  "language_info": {
   "codemirror_mode": {
    "name": "ipython",
    "version": 3
   },
   "file_extension": ".py",
   "mimetype": "text/x-python",
   "name": "python",
   "nbconvert_exporter": "python",
   "pygments_lexer": "ipython3",
   "version": "3.8.8"
  }
 },
 "nbformat": 4,
 "nbformat_minor": 5
}
